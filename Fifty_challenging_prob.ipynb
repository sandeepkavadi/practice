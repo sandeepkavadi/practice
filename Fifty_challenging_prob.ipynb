{
 "cells": [
  {
   "cell_type": "code",
   "execution_count": 1,
   "id": "2c25fd24",
   "metadata": {},
   "outputs": [],
   "source": [
    "import math"
   ]
  },
  {
   "cell_type": "markdown",
   "id": "25b18678",
   "metadata": {},
   "source": [
    "# Problem 1:\n",
    "### The sock drawer\n",
    "Total socks in drawer = N\n",
    "Total red socks = R\n",
    "\n",
    "P(R|2) = RC2/NC2 = 1/2\n",
    "2*R*(R-1) = N*(N-1)    # R, N are natural numbers\n",
    "N=4, R=3\n",
    "\n",
    "If number of black socks are even\n",
    "N-R has to be even\n",
    "N=7\n"
   ]
  },
  {
   "cell_type": "code",
   "execution_count": 4,
   "id": "6d52a1af",
   "metadata": {},
   "outputs": [
    {
     "name": "stdout",
     "output_type": "stream",
     "text": [
      "0 1.0 0.0 -1.0 0.0\n",
      "1 1.0 0.0 0.0 1.0\n",
      "4 3.0 -2.0 1.0 6.0\n",
      "21 15.0 -14.0 6.0 35.0\n",
      "120 85.0 -84.0 35.0 204.0\n",
      "697 493.0 -492.0 204.0 1189.0\n"
     ]
    }
   ],
   "source": [
    "from math import sqrt\n",
    "#roots\n",
    "for N in range(1000):\n",
    "    k = N*(N-1)/2\n",
    "    if (1+4*k)>0:\n",
    "        r1 = (1+sqrt(1+4*k))/2\n",
    "        r2 = (1-sqrt(1+4*k))/2\n",
    "        if (r1%1 == 0) | (r2%1 == 0):\n",
    "            print(N, r1, r2, N-r1, N-r2)"
   ]
  },
  {
   "cell_type": "code",
   "execution_count": null,
   "id": "a7ce5c05",
   "metadata": {},
   "outputs": [],
   "source": []
  },
  {
   "cell_type": "code",
   "execution_count": null,
   "id": "6635e255",
   "metadata": {},
   "outputs": [],
   "source": []
  }
 ],
 "metadata": {
  "kernelspec": {
   "display_name": "Python 3 (ipykernel)",
   "language": "python",
   "name": "python3"
  },
  "language_info": {
   "codemirror_mode": {
    "name": "ipython",
    "version": 3
   },
   "file_extension": ".py",
   "mimetype": "text/x-python",
   "name": "python",
   "nbconvert_exporter": "python",
   "pygments_lexer": "ipython3",
   "version": "3.9.7"
  }
 },
 "nbformat": 4,
 "nbformat_minor": 5
}
