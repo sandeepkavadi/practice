{
 "cells": [
  {
   "cell_type": "code",
   "execution_count": 3,
   "id": "3a59ec2f-2371-40c5-8a4e-b9be8dc9016e",
   "metadata": {},
   "outputs": [],
   "source": [
    "import pandas as pd\n",
    "import numpy as np\n",
    "import datetime as dt\n",
    "from copy import deepcopy\n",
    "import matplotlib.pyplot as plt\n",
    "import seaborn as sns\n",
    "import os\n",
    "\n",
    "%matplotlib inline"
   ]
  },
  {
   "cell_type": "code",
   "execution_count": 8,
   "id": "8d9b2abe-a112-48c6-aabc-215a5455d34c",
   "metadata": {},
   "outputs": [],
   "source": [
    "df = pd.read_csv('./taxis.csv')"
   ]
  },
  {
   "cell_type": "code",
   "execution_count": 90,
   "id": "5493a03f-0da2-49f7-ade8-6ad354b95237",
   "metadata": {},
   "outputs": [],
   "source": [
    "c = df.describe().columns"
   ]
  },
  {
   "cell_type": "code",
   "execution_count": 98,
   "id": "555c7a85-0c66-4b1f-abdb-5962f63480f6",
   "metadata": {},
   "outputs": [
    {
     "data": {
      "text/html": [
       "<div>\n",
       "<style scoped>\n",
       "    .dataframe tbody tr th:only-of-type {\n",
       "        vertical-align: middle;\n",
       "    }\n",
       "\n",
       "    .dataframe tbody tr th {\n",
       "        vertical-align: top;\n",
       "    }\n",
       "\n",
       "    .dataframe thead th {\n",
       "        text-align: right;\n",
       "    }\n",
       "</style>\n",
       "<table border=\"1\" class=\"dataframe\">\n",
       "  <thead>\n",
       "    <tr style=\"text-align: right;\">\n",
       "      <th></th>\n",
       "      <th>color</th>\n",
       "      <th>payment</th>\n",
       "      <th>pickup_zone</th>\n",
       "      <th>dropoff_zone</th>\n",
       "      <th>pickup_borough</th>\n",
       "      <th>dropoff_borough</th>\n",
       "      <th>tot_cats</th>\n",
       "    </tr>\n",
       "  </thead>\n",
       "  <tbody>\n",
       "    <tr>\n",
       "      <th>0</th>\n",
       "      <td>yellow</td>\n",
       "      <td>credit card</td>\n",
       "      <td>Lenox Hill West</td>\n",
       "      <td>UN/Turtle Bay South</td>\n",
       "      <td>Manhattan</td>\n",
       "      <td>Manhattan</td>\n",
       "      <td>(12.8, 14.16]</td>\n",
       "    </tr>\n",
       "    <tr>\n",
       "      <th>1</th>\n",
       "      <td>yellow</td>\n",
       "      <td>cash</td>\n",
       "      <td>Upper West Side South</td>\n",
       "      <td>Upper West Side South</td>\n",
       "      <td>Manhattan</td>\n",
       "      <td>Manhattan</td>\n",
       "      <td>(8.8, 10.3]</td>\n",
       "    </tr>\n",
       "    <tr>\n",
       "      <th>2</th>\n",
       "      <td>yellow</td>\n",
       "      <td>credit card</td>\n",
       "      <td>Alphabet City</td>\n",
       "      <td>West Village</td>\n",
       "      <td>Manhattan</td>\n",
       "      <td>Manhattan</td>\n",
       "      <td>(12.8, 14.16]</td>\n",
       "    </tr>\n",
       "    <tr>\n",
       "      <th>3</th>\n",
       "      <td>yellow</td>\n",
       "      <td>credit card</td>\n",
       "      <td>Hudson Sq</td>\n",
       "      <td>Yorkville West</td>\n",
       "      <td>Manhattan</td>\n",
       "      <td>Manhattan</td>\n",
       "      <td>(33.06, 174.82]</td>\n",
       "    </tr>\n",
       "    <tr>\n",
       "      <th>4</th>\n",
       "      <td>yellow</td>\n",
       "      <td>credit card</td>\n",
       "      <td>Midtown East</td>\n",
       "      <td>Yorkville West</td>\n",
       "      <td>Manhattan</td>\n",
       "      <td>Manhattan</td>\n",
       "      <td>(12.8, 14.16]</td>\n",
       "    </tr>\n",
       "    <tr>\n",
       "      <th>...</th>\n",
       "      <td>...</td>\n",
       "      <td>...</td>\n",
       "      <td>...</td>\n",
       "      <td>...</td>\n",
       "      <td>...</td>\n",
       "      <td>...</td>\n",
       "      <td>...</td>\n",
       "    </tr>\n",
       "    <tr>\n",
       "      <th>6428</th>\n",
       "      <td>green</td>\n",
       "      <td>credit card</td>\n",
       "      <td>East Harlem North</td>\n",
       "      <td>Central Harlem North</td>\n",
       "      <td>Manhattan</td>\n",
       "      <td>Manhattan</td>\n",
       "      <td>(1.2990000000000002, 8.8]</td>\n",
       "    </tr>\n",
       "    <tr>\n",
       "      <th>6429</th>\n",
       "      <td>green</td>\n",
       "      <td>credit card</td>\n",
       "      <td>Jamaica</td>\n",
       "      <td>East Concourse/Concourse Village</td>\n",
       "      <td>Queens</td>\n",
       "      <td>Bronx</td>\n",
       "      <td>(33.06, 174.82]</td>\n",
       "    </tr>\n",
       "    <tr>\n",
       "      <th>6430</th>\n",
       "      <td>green</td>\n",
       "      <td>cash</td>\n",
       "      <td>Crown Heights North</td>\n",
       "      <td>Bushwick North</td>\n",
       "      <td>Brooklyn</td>\n",
       "      <td>Brooklyn</td>\n",
       "      <td>(16.0, 18.5]</td>\n",
       "    </tr>\n",
       "    <tr>\n",
       "      <th>6431</th>\n",
       "      <td>green</td>\n",
       "      <td>credit card</td>\n",
       "      <td>East New York</td>\n",
       "      <td>East Flatbush/Remsen Village</td>\n",
       "      <td>Brooklyn</td>\n",
       "      <td>Brooklyn</td>\n",
       "      <td>(1.2990000000000002, 8.8]</td>\n",
       "    </tr>\n",
       "    <tr>\n",
       "      <th>6432</th>\n",
       "      <td>green</td>\n",
       "      <td>credit card</td>\n",
       "      <td>Boerum Hill</td>\n",
       "      <td>Windsor Terrace</td>\n",
       "      <td>Brooklyn</td>\n",
       "      <td>Brooklyn</td>\n",
       "      <td>(18.5, 22.56]</td>\n",
       "    </tr>\n",
       "  </tbody>\n",
       "</table>\n",
       "<p>6341 rows × 7 columns</p>\n",
       "</div>"
      ],
      "text/plain": [
       "       color      payment            pickup_zone  \\\n",
       "0     yellow  credit card        Lenox Hill West   \n",
       "1     yellow         cash  Upper West Side South   \n",
       "2     yellow  credit card          Alphabet City   \n",
       "3     yellow  credit card              Hudson Sq   \n",
       "4     yellow  credit card           Midtown East   \n",
       "...      ...          ...                    ...   \n",
       "6428   green  credit card      East Harlem North   \n",
       "6429   green  credit card                Jamaica   \n",
       "6430   green         cash    Crown Heights North   \n",
       "6431   green  credit card          East New York   \n",
       "6432   green  credit card            Boerum Hill   \n",
       "\n",
       "                          dropoff_zone pickup_borough dropoff_borough  \\\n",
       "0                  UN/Turtle Bay South      Manhattan       Manhattan   \n",
       "1                Upper West Side South      Manhattan       Manhattan   \n",
       "2                         West Village      Manhattan       Manhattan   \n",
       "3                       Yorkville West      Manhattan       Manhattan   \n",
       "4                       Yorkville West      Manhattan       Manhattan   \n",
       "...                                ...            ...             ...   \n",
       "6428              Central Harlem North      Manhattan       Manhattan   \n",
       "6429  East Concourse/Concourse Village         Queens           Bronx   \n",
       "6430                    Bushwick North       Brooklyn        Brooklyn   \n",
       "6431      East Flatbush/Remsen Village       Brooklyn        Brooklyn   \n",
       "6432                   Windsor Terrace       Brooklyn        Brooklyn   \n",
       "\n",
       "                       tot_cats  \n",
       "0                 (12.8, 14.16]  \n",
       "1                   (8.8, 10.3]  \n",
       "2                 (12.8, 14.16]  \n",
       "3               (33.06, 174.82]  \n",
       "4                 (12.8, 14.16]  \n",
       "...                         ...  \n",
       "6428  (1.2990000000000002, 8.8]  \n",
       "6429            (33.06, 174.82]  \n",
       "6430               (16.0, 18.5]  \n",
       "6431  (1.2990000000000002, 8.8]  \n",
       "6432              (18.5, 22.56]  \n",
       "\n",
       "[6341 rows x 7 columns]"
      ]
     },
     "execution_count": 98,
     "metadata": {},
     "output_type": "execute_result"
    }
   ],
   "source": [
    "df[df.columns[~df.columns.isin(c)]]"
   ]
  },
  {
   "cell_type": "code",
   "execution_count": 16,
   "id": "d5ff10e0-e7fe-410c-ba2d-04b3ebe651a6",
   "metadata": {},
   "outputs": [
    {
     "data": {
      "text/plain": [
       "color\n",
       "yellow    5373\n",
       "green      968\n",
       "Name: count, dtype: int64"
      ]
     },
     "execution_count": 16,
     "metadata": {},
     "output_type": "execute_result"
    }
   ],
   "source": [
    "# Exploratory Data Analysis\n",
    "# Tables represent operations of the organization, check how the records were generated\n",
    "df.info()    # looking for Dimensions; Column names; datatypes: ['categorical', 'numeric', 'datetime', 'timedelta']; Null values\n",
    "df.head()    # get a sense of example values in the dataset\n",
    "df.describe()    # quick summary statistics in the data - outliers need to be identified from here\n",
    "# Co-efficient of variation sigma/mu - how large os the variation get a sense of the distribution of the data\n",
    "df[[col1, col2]].value_counts()\n",
    "df[col].unique()\n",
    "df.nunique()"
   ]
  },
  {
   "cell_type": "code",
   "execution_count": 10,
   "id": "31030329-0c2a-42d5-9cba-01d057c04b8f",
   "metadata": {},
   "outputs": [],
   "source": [
    "# Data profiling\n",
    "## Missing Values:\n",
    "#### identifying missing values\n",
    "df.info()\n",
    "df[df[col].isna()]\n",
    "\n",
    "#### Handling missing values\n",
    "###### Dropping missing values\n",
    "# DataFrame.dropna(*, axis=0, how=_NoDefault.no_default, thresh=_NoDefault.no_default, \n",
    "#                    subset=None, inplace=False, ignore_index=False)[source]\n",
    "\n",
    "df = df.dropna(axis=0, how='all'/'any', thresh=int, subset=[col1, col2, col3], inplace=True)\n",
    "df[df[col].notna()]\n",
    "\n",
    "\n",
    "###### Imputation of missing values with mean\n",
    "## fillna: \n",
    "## DataFrame.fillna(value=None, *, method=None, axis=None, inplace=False, limit=None, downcast=_NoDefault.no_default)[source]\n",
    "## method{‘backfill’, ‘bfill’, ‘ffill’, None}, default None -- useful for timeseries data adding missing values\n",
    "df[col].fillna(df[col].mean(), inplace=True)\n",
    "\n",
    "###### Imputation of missing values with median\n",
    "df[col].fillna(df[col].median(), inplace=True)\n",
    "###### Imputation of missing values with median\n",
    "df[col].fillna(df[col].mode(), inplace=True)\n",
    "\n",
    "\n",
    "## Outlier:\n",
    "#### Identifying outlier\n",
    "#### Handling outliers\n",
    "###### Dropping outliers\n",
    "###### Winsorization -- setting it to a particular percentile. Looks at both ends not just the higher end\n",
    "\n",
    "\n",
    "\n",
    "## Duplicates in the dataset:\n",
    "#### Identifying duplicates\n",
    "df.duplicated().sum()\n",
    "\n",
    "#### Handling duplicates\n",
    "df.drop_duplicates(keep='last')\n",
    "\n",
    "df.index.isin([1,2])\n",
    "df.index.is_unique()\n",
    "\n",
    "\n",
    "## droppping columns from df\n",
    "df.drop([col1, col2], axis=1, inplace=True)"
   ]
  },
  {
   "cell_type": "code",
   "execution_count": null,
   "id": "0061cf79-40f4-4f41-87bd-82cc2947d1d2",
   "metadata": {},
   "outputs": [],
   "source": [
    "## transforming columns\n",
    "\n",
    "df[col] = df[col].map(lambda x: x.srt.upper())\n",
    "df[col] = df[col].map({'a':5, 'b':10})\n",
    "\n",
    "df[col] = df[col].apply(func, args, axis=0)"
   ]
  },
  {
   "cell_type": "code",
   "execution_count": null,
   "id": "0a5edfd7-aafc-4b99-8676-33cb90308388",
   "metadata": {},
   "outputs": [],
   "source": [
    "# filtering data set based on counts of categorical variables\n",
    "# create a datafram from value_counts\n",
    "s = df.pickup_borough.value_counts().to_frame()\n",
    "s = s[s>100]\n",
    "df[df.pickup_borough.isin(s.index)]\n",
    "\n",
    "## Do type conversions to the correct data type and then re-run df.describe()\n",
    "pd.to_numeric(errors='coerce')  # can also use errors='ignore'\n",
    "pd.to_datetime(errors='coerce')  # can also use errors='ignore'\n",
    "df[col].astype('int')  # can also use 'float', 'str'\n",
    "df[['pickup', 'dropoff']] = df[['pickup', 'dropoff']].apply(pd.to_datetime, errors='raise', axis=0)\n",
    "df[['distance', 'fare', 'tip', 'total']] = df[['distance', 'fare', 'tip', 'total']].apply(pd.to_numeric, errors='raise', axis=0)"
   ]
  },
  {
   "cell_type": "code",
   "execution_count": null,
   "id": "7deb538e-3083-4af8-860c-b504d018d103",
   "metadata": {},
   "outputs": [],
   "source": [
    "## Arithematic on dataframes\n",
    "df = df1.add(df2, fill_value=0)\n",
    "df = df1.sub(df2, fill_value=0)\n",
    "df = df1.div(df2, fill_value=0)\n"
   ]
  },
  {
   "cell_type": "code",
   "execution_count": null,
   "id": "d715ec88-a2be-4fe3-93d5-9a4f427f07cf",
   "metadata": {},
   "outputs": [],
   "source": [
    "## Discretization & Binning\n",
    "bins = [18, 25, 35, 60, 100]\n",
    "df[col2] = pd.cut(df[col], bins, labels=['list', 'of', 'names'])\n",
    "\n",
    "# categories based on qunatiles for continuous numerical data\n",
    "df[col] = pd.qcut(df[col2], num_bins)\n",
    "df[col] = df[col].ntile(10)\n"
   ]
  },
  {
   "cell_type": "code",
   "execution_count": 33,
   "id": "375eb2e1-e44f-42e7-97a7-0c240bf08e67",
   "metadata": {},
   "outputs": [
    {
     "data": {
      "text/plain": [
       "tot_cats\n",
       "(1.2990000000000002, 8.8]    738\n",
       "(11.4, 12.8]                 667\n",
       "(12.8, 14.16]                646\n",
       "(18.5, 22.56]                642\n",
       "(8.8, 10.3]                  635\n",
       "(33.06, 174.82]              634\n",
       "(16.0, 18.5]                 627\n",
       "(22.56, 33.06]               624\n",
       "(14.16, 16.0]                597\n",
       "(10.3, 11.4]                 531\n",
       "Name: count, dtype: int64"
      ]
     },
     "execution_count": 33,
     "metadata": {},
     "output_type": "execute_result"
    }
   ],
   "source": [
    "df['tot_cats'] = pd.qcut(df.total, 10)  #deciles\n",
    "df['tot_cats'].value_counts()"
   ]
  },
  {
   "cell_type": "code",
   "execution_count": null,
   "id": "e60ed05c-e706-4caa-b0d6-2294657b217b",
   "metadata": {},
   "outputs": [],
   "source": [
    "## Sampling a data frame\n",
    "\n",
    "df.sample(n=1000, replace=True)\n",
    "\n",
    "# Creating indicator variables\n",
    "pd.get_dummies(df[col])\n",
    "# join to previous data frame based on indexes\n"
   ]
  },
  {
   "cell_type": "code",
   "execution_count": 87,
   "id": "e442af45-9e33-4858-8397-537de562abfb",
   "metadata": {},
   "outputs": [
    {
     "data": {
      "text/plain": [
       "DatetimeIndex(['2000-01-01', '2000-01-02', '2000-01-03', '2000-01-04',\n",
       "               '2000-01-05', '2000-01-06', '2000-01-07', '2000-01-08',\n",
       "               '2000-01-09', '2000-01-10',\n",
       "               ...\n",
       "               '2002-09-17', '2002-09-18', '2002-09-19', '2002-09-20',\n",
       "               '2002-09-21', '2002-09-22', '2002-09-23', '2002-09-24',\n",
       "               '2002-09-25', '2002-09-26'],\n",
       "              dtype='datetime64[ns]', length=1000, freq='D')"
      ]
     },
     "execution_count": 87,
     "metadata": {},
     "output_type": "execute_result"
    }
   ],
   "source": [
    "s = pd.date_range('1/1/2000', periods=1000, freq='D')\n",
    "s"
   ]
  },
  {
   "cell_type": "code",
   "execution_count": null,
   "id": "28667350-bfaf-4f98-8b15-0cfcefc34513",
   "metadata": {},
   "outputs": [],
   "source": [
    "# Filtering on timedelta columns\n",
    "df = df[df.tot_delivery_time > dt.timedelta(minutes=0)]\n",
    "\n",
    "# How to get time of day from a datetime colmn and group by various timeperiod during the day\n",
    "df.time_col.dt.hour\n",
    "# How to get day of week\n",
    "\n",
    "# Month and year from date and group by\n",
    "\n",
    "# How to plot and check for seasonality\n",
    "\n",
    "## Upsampling and downsampling methods\n",
    "resampler = ts.resample('H')   #upsampling\n",
    "resampler = ts.resample('D', closed='right', label='right').sum()   #downsampling\n",
    "resampler = ts.resample('D', closed='right', label='right').ohlc()   #downsampling\n",
    "\n",
    "# Moving window functions\n",
    "## rolling\n",
    "\n",
    "s.rolling(30 ,min_periods=10).mean()\n",
    "\n",
    "# date ranges in pandas\n",
    "s = pd.date_range('1/1/2000', periods=1000, freq='D')\n",
    "\n",
    "\n"
   ]
  },
  {
   "cell_type": "code",
   "execution_count": null,
   "id": "dc24f6c6-7a1e-4253-85d3-f48e6875035c",
   "metadata": {},
   "outputs": [],
   "source": [
    "# Filtering on a series based on values\n",
    "s = df['Restaurant_ID'].value_counts().sort_values(ascending=False)\n",
    "s = s[s>7]"
   ]
  },
  {
   "cell_type": "code",
   "execution_count": null,
   "id": "00716932-1021-4cee-accd-ab30ba8edaea",
   "metadata": {},
   "outputs": [],
   "source": [
    "# Converting timedelta values to a float\n",
    "df['tot_delivery_minutes'] = df['tot_delivery_time'] / pd.to_timedelta(1, unit='m')"
   ]
  },
  {
   "cell_type": "code",
   "execution_count": null,
   "id": "82f9cee4-a17a-4bcc-9913-0e4abbe70b7e",
   "metadata": {},
   "outputs": [],
   "source": [
    "## Ranking values in a data frame\n",
    "df.rank(axis='index')"
   ]
  },
  {
   "cell_type": "code",
   "execution_count": null,
   "id": "c2b73bdf-ed3f-4e7f-a5b6-7c115351a356",
   "metadata": {},
   "outputs": [],
   "source": [
    "## Descriptive summary statistics\n",
    "# count\n",
    "# describe\n",
    "# min, max\n",
    "# argmin, argmax  # returns integers iloc\n",
    "# idxmin, idxmax  #returns labels loc\n",
    "# quantile\n",
    "# sum\n",
    "# mean\n",
    "# median\n",
    "# var\n",
    "# std\n",
    "cumsum\n",
    "cummin\n",
    "cummax\n",
    "cumprod\n",
    "diff\n",
    "pct_change\n",
    "\n",
    "\n",
    "df[col1].corr(df[col2])\n",
    "df.corr()\n",
    "df.corrwith(df[col])\n"
   ]
  },
  {
   "cell_type": "code",
   "execution_count": null,
   "id": "4165552f-543f-456c-90d1-7a9e9767eb32",
   "metadata": {},
   "outputs": [],
   "source": [
    "## String manipulation\n",
    "## split('delim')\n",
    "## strip()\n",
    "## glue.join(list)\n",
    "\n",
    "str1.replace(',', ':')\n",
    "\n",
    "## Regular Expressions\n",
    "\n",
    "## Vectorized string function\n",
    "df.col.str.contains('abc')\n",
    "df.col.str.extract(pattern, expand=True)\n",
    "df.str.startswith()\n",
    "df.str.endswith()\n",
    "df.str.len()\n",
    "df.str.match(pattern)  #returns True/False\n",
    "df.str.replace(pattern, 'replace_with')  "
   ]
  },
  {
   "cell_type": "code",
   "execution_count": null,
   "id": "1dcc3619-8f9e-43fb-b449-605c622cbc59",
   "metadata": {},
   "outputs": [],
   "source": [
    "# unstack a series with multi index\n",
    "s.unstack().stack()\n",
    "\n",
    "df.sum(level=1, axis=1)\n",
    "\n",
    "# Merging data frames\n",
    "\n",
    "df = pd.merge(df1, df2, on=['key1', 'key2'], left_on='lkey', right_on='r_key', left_index=True, how='left', suffixes=('_left', '_right'))\n",
    "left.join(right, how='outer')\n",
    "pd.concat([df1, df2, df3], axis=1)\n",
    "\n",
    "## Coalesce - combine first\n",
    "## Long to wide pivot\n",
    "## Wide to Long melt\n"
   ]
  },
  {
   "cell_type": "code",
   "execution_count": null,
   "id": "9b7c7440-40c9-43b2-bc7e-5ac63b1942f3",
   "metadata": {},
   "outputs": [],
   "source": []
  },
  {
   "cell_type": "code",
   "execution_count": 48,
   "id": "90f4e969-8d70-40a7-b4d6-5f17724352df",
   "metadata": {},
   "outputs": [
    {
     "data": {
      "text/plain": [
       "<matplotlib.collections.PathCollection at 0x7f0b667d5a90>"
      ]
     },
     "execution_count": 48,
     "metadata": {},
     "output_type": "execute_result"
    },
    {
     "data": {
      "image/png": "[encoded data removed]",
      "text/plain": [
       "<Figure size 640x480 with 3 Axes>"
      ]
     },
     "metadata": {},
     "output_type": "display_data"
    }
   ],
   "source": [
    "# Data visualization and plotting\n",
    "fig = plt.figure()\n",
    "\n",
    "ax1 = fig.add_subplot(2,2,1)\n",
    "ax2 = fig.add_subplot(2,2,2)\n",
    "ax3 = fig.add_subplot(2,2,3)\n",
    "\n",
    "ax1.plot(np.random.randn(100).cumsum(), 'k^--')\n",
    "ax2.hist(np.random.randn(100), bins=20, color='k', alpha=0.5)\n",
    "ax3.scatter(np.arange(100), np.arange(100)+3*np.random.randn(100))"
   ]
  },
  {
   "cell_type": "code",
   "execution_count": 81,
   "id": "e04c0aa2-82cc-47ee-bd1b-14f87c038323",
   "metadata": {},
   "outputs": [
    {
     "data": {
      "text/plain": [
       "[Text(0.5, 1.0, 'Random walk'),\n",
       " Text(0.5, 0, 'Stages'),\n",
       " Text(0, 0.5, 'value'),\n",
       " [<matplotlib.axis.XTick at 0x7f0b65af19d0>,\n",
       "  <matplotlib.axis.XTick at 0x7f0b65779950>,\n",
       "  <matplotlib.axis.XTick at 0x7f0b6583dc90>,\n",
       "  <matplotlib.axis.XTick at 0x7f0b65855390>],\n",
       " [],\n",
       " (0.0, 100.0),\n",
       " (0.0, 20.0)]"
      ]
     },
     "execution_count": 81,
     "metadata": {},
     "output_type": "execute_result"
    },
    {
     "data": {
      "image/png": "[encoded data removed]",
      "text/plain": [
       "<Figure size 640x480 with 4 Axes>"
      ]
     },
     "metadata": {},
     "output_type": "display_data"
    }
   ],
   "source": [
    "fig, axs = plt.subplots(2,2, sharex=True, sharey=True)\n",
    "plt.subplots_adjust(left=None, bottom=None, right=None, top=None,\n",
    "                   wspace=None, hspace=None)\n",
    "ax = axs[0,0]\n",
    "# ax.plot(x, y, 'g--')\n",
    "ax.plot(np.random.randn(100).cumsum(), linestyle='--', color='g', marker = '^', label='def')\n",
    "ax.legend(loc='best')\n",
    "props = {\n",
    "    'title': 'Random walk',\n",
    "    'xlabel': 'Stages', 'ylabel':'value',\n",
    "    'xticks':[0,10,50,100], 'xticklabels': ['zero','ten','fifty','hundred'],\n",
    "    'xlim':[0,100], 'ylim':[0,20]\n",
    "}\n",
    "ax.set(**props)\n",
    "fig"
   ]
  },
  {
   "cell_type": "code",
   "execution_count": 77,
   "id": "8afd1d3e-1132-4989-9a38-88908b264f42",
   "metadata": {},
   "outputs": [
    {
     "data": {
      "text/plain": [
       "[Text(0.5, 1.0, 'Random walk'),\n",
       " Text(0.5, 224.90555555555557, 'Stages'),\n",
       " Text(4.444444444444445, 0.5, 'value'),\n",
       " [<matplotlib.axis.XTick at 0x7f0b65b93fd0>,\n",
       "  <matplotlib.axis.XTick at 0x7f0b65b92410>,\n",
       "  <matplotlib.axis.XTick at 0x7f0b65ba4e90>,\n",
       "  <matplotlib.axis.XTick at 0x7f0b65ba5a10>],\n",
       " [],\n",
       " (0.0, 50.0),\n",
       " (0.0, 5.0)]"
      ]
     },
     "execution_count": 77,
     "metadata": {},
     "output_type": "execute_result"
    }
   ],
   "source": [
    "## Plotting with Pandas and seaborn\n",
    "s.plot()\n",
    "df.plot()  # by default will give line plots\n",
    "df.plot.line()\n",
    "df.plot.bar()\n",
    "\n",
    "pd.crosstab(df[col1], df[col2], margins=True)   # by deafult gives counts"
   ]
  },
  {
   "cell_type": "code",
   "execution_count": 78,
   "id": "57a83669-a345-452f-b81e-6af83aac9add",
   "metadata": {},
   "outputs": [
    {
     "data": {
      "image/png": "[encoded data removed]",
      "text/plain": [
       "<Figure size 640x480 with 4 Axes>"
      ]
     },
     "execution_count": 78,
     "metadata": {},
     "output_type": "execute_result"
    }
   ],
   "source": [
    "# Plottign using seaborn in a dataframe\n",
    "import seaborn as sns\n",
    "\n",
    "sns.barplot(x='tip_pct', y='day', data=df, orient='h', hue='time')\n",
    "sns.distplot(values, bins=100, color='k')\n",
    "sns.pairplot(df, diag_kind='kde', plot_kws={'alpha':0.5})\n",
    "sns.factorplot(x='day', y='tip_pct', hue='time', col='smoker', kind='bar', data=df1)"
   ]
  },
  {
   "cell_type": "code",
   "execution_count": null,
   "id": "94f23841-4be7-4972-a4f8-65d94dd459aa",
   "metadata": {},
   "outputs": [],
   "source": [
    "##  group by\n",
    "grouped.agg({'tip':['mean', 'max', 'sum'], 'tip_pct':'sum'})"
   ]
  }
 ],
 "metadata": {
  "kernelspec": {
   "display_name": "Python 3 (ipykernel)",
   "language": "python",
   "name": "python3"
  },
  "language_info": {
   "codemirror_mode": {
    "name": "ipython",
    "version": 3
   },
   "file_extension": ".py",
   "mimetype": "text/x-python",
   "name": "python",
   "nbconvert_exporter": "python",
   "pygments_lexer": "ipython3",
   "version": "3.9.7"
  }
 },
 "nbformat": 4,
 "nbformat_minor": 5
}
