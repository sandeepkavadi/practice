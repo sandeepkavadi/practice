{
 "cells": [
  {
   "cell_type": "code",
   "execution_count": 27,
   "id": "f1b46242",
   "metadata": {},
   "outputs": [],
   "source": [
    "import collections\n",
    "from itertools import permutations, combinations, combinations_with_replacement, product\n",
    "from math import factorial\n",
    "import random\n",
    "import numpy as np"
   ]
  },
  {
   "cell_type": "code",
   "execution_count": 15,
   "id": "2ceb8e5a",
   "metadata": {},
   "outputs": [],
   "source": [
    "# Normal deck\n",
    "ranks = [str(x) for x in range(2,11)] + list('JQKA')\n",
    "suits = list('HDCS')\n",
    "deck = list(product(ranks, suits))"
   ]
  },
  {
   "cell_type": "code",
   "execution_count": null,
   "id": "76212f72",
   "metadata": {},
   "outputs": [],
   "source": []
  },
  {
   "cell_type": "code",
   "execution_count": null,
   "id": "4c466af2",
   "metadata": {},
   "outputs": [],
   "source": [
    "# Pythonic deck\n",
    "Card = collections.namedtuple('Card', ['rank', 'suit'])\n",
    "py_deck = [Card(rank, suit) for rank in ranks for suit in suits]"
   ]
  },
  {
   "cell_type": "code",
   "execution_count": 54,
   "id": "6a4b8eb3",
   "metadata": {},
   "outputs": [],
   "source": [
    "# generating a random draw of five cards - \"A Poker Hand\"\n",
    "hand = random.sample(py_deck,k=5) # unordered selection of 5 cards without repacement"
   ]
  },
  {
   "cell_type": "code",
   "execution_count": 59,
   "id": "83ede972",
   "metadata": {},
   "outputs": [],
   "source": [
    "# Counting the number of ranks and suits in a given hand\n",
    "c_ranks = collections.Counter([a[0] for a in hand])\n",
    "c_suits = collections.Counter([a[1] for a in hand])"
   ]
  },
  {
   "cell_type": "code",
   "execution_count": 61,
   "id": "37fe7769",
   "metadata": {},
   "outputs": [
    {
     "data": {
      "text/plain": [
       "['C', 'C', 'C', 'H', 'H']"
      ]
     },
     "execution_count": 61,
     "metadata": {},
     "output_type": "execute_result"
    }
   ],
   "source": [
    "c_suits.most_common()\n",
    "c_suits.items()\n",
    "sorted(c_suits.elements())"
   ]
  },
  {
   "cell_type": "markdown",
   "id": "4b7b64e0",
   "metadata": {},
   "source": [
    "#### Order of Poker hands:\n",
    "1. Royal Flush: A, K, Q, J, 10 all same suit\n",
    "2. Straight Flush: 5 consecutive cards all same suit\n",
    "3. Four of a Kind: 4 cards of same rank\n",
    "4. Full House: 3 cards of same rank + 2 cards of same rank\n",
    "5. Flush: Any five cards of same suit but not in a sequence\n",
    "6. Straight: Five cards in a sequence, not of same suit\n",
    "7. Three of a kind: 3 cards of same rank\n",
    "8. Two pair: 2 cards of same rank + 2 cards of same rank\n",
    "9. One pair: 2 cards of same rank"
   ]
  },
  {
   "cell_type": "code",
   "execution_count": 63,
   "id": "2a8df19e",
   "metadata": {},
   "outputs": [],
   "source": [
    "# Compute probabilities of eah of the above hands through simulation\n",
    "# Verify with analytically computed probabilities where possible"
   ]
  },
  {
   "cell_type": "code",
   "execution_count": null,
   "id": "b75ea446",
   "metadata": {},
   "outputs": [],
   "source": []
  }
 ],
 "metadata": {
  "kernelspec": {
   "display_name": "Python 3 (ipykernel)",
   "language": "python",
   "name": "python3"
  },
  "language_info": {
   "codemirror_mode": {
    "name": "ipython",
    "version": 3
   },
   "file_extension": ".py",
   "mimetype": "text/x-python",
   "name": "python",
   "nbconvert_exporter": "python",
   "pygments_lexer": "ipython3",
   "version": "3.9.7"
  }
 },
 "nbformat": 4,
 "nbformat_minor": 5
}
